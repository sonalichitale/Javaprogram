{
  "nbformat": 4,
  "nbformat_minor": 0,
  "metadata": {
    "colab": {
      "provenance": [],
      "authorship_tag": "ABX9TyM7CmTw/5OFu2zsqD2go3pV",
      "include_colab_link": true
    },
    "kernelspec": {
      "name": "python3",
      "display_name": "Python 3"
    },
    "language_info": {
      "name": "python"
    }
  },
  "cells": [
    {
      "cell_type": "markdown",
      "metadata": {
        "id": "view-in-github",
        "colab_type": "text"
      },
      "source": [
        "<a href=\"https://colab.research.google.com/github/sonalichitale/Javaprogram/blob/main/untitled0.ipynb\" target=\"_parent\"><img src=\"https://colab.research.google.com/assets/colab-badge.svg\" alt=\"Open In Colab\"/></a>"
      ]
    },
    {
      "cell_type": "code",
      "execution_count": null,
      "metadata": {
        "colab": {
          "base_uri": "https://localhost:8080/",
          "height": 106
        },
        "id": "FCXaFCMjnK2r",
        "outputId": "ce5d9f27-7c64-477c-e6f3-9892f0b7dffd"
      },
      "outputs": [
        {
          "output_type": "error",
          "ename": "SyntaxError",
          "evalue": "invalid syntax (<ipython-input-3-0d8f9e7a398c>, line 1)",
          "traceback": [
            "\u001b[0;36m  File \u001b[0;32m\"<ipython-input-3-0d8f9e7a398c>\"\u001b[0;36m, line \u001b[0;32m1\u001b[0m\n\u001b[0;31m    public class Problem8 {\u001b[0m\n\u001b[0m           ^\u001b[0m\n\u001b[0;31mSyntaxError\u001b[0m\u001b[0;31m:\u001b[0m invalid syntax\n"
          ]
        }
      ],
      "source": [
        "package JAVAAssignment;\n",
        "\n",
        "import java.util.ArrayList;\n",
        "\n",
        "public class Problem8 {\n",
        "\n",
        "   //static String str = \"Welcome to JAVA\";\n",
        "\n",
        "    public static void main(String[] args)\n",
        "    {\n",
        "        String str = \"Welcome to JAVA\";\n",
        "        int counter = 0;\n",
        "\n",
        "\n",
        "\n",
        "        for(int i =0;i<str.length();i++) {\n",
        "            if (str.charAt(i) == ' ')\n",
        "                counter++;\n",
        "\n",
        "        }\n",
        "        System.out.println(\"Number of spaces \"+counter);\n",
        "        String[] data = str.split(\" \");\n",
        "        for(String word : data ){\n",
        "            System.out.println(word);\n",
        "            break;\n",
        "        }\n",
        "\n",
        "    }\n",
        "\n",
        "}\n"
      ]
    },
    {
      "cell_type": "code",
      "source": [],
      "metadata": {
        "id": "qfAyS0Arnn4b"
      },
      "execution_count": null,
      "outputs": []
    }
  ]
}